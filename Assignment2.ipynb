{
  "nbformat": 4,
  "nbformat_minor": 0,
  "metadata": {
    "colab": {
      "provenance": [],
      "authorship_tag": "ABX9TyNW1mTdPoVTwFH5aYgeCRcG",
      "include_colab_link": true
    },
    "kernelspec": {
      "name": "python3",
      "display_name": "Python 3"
    },
    "language_info": {
      "name": "python"
    }
  },
  "cells": [
    {
      "cell_type": "markdown",
      "metadata": {
        "id": "view-in-github",
        "colab_type": "text"
      },
      "source": [
        "<a href=\"https://colab.research.google.com/github/afsanakhanpatan/Assignment2/blob/main/Assignment2.ipynb\" target=\"_parent\"><img src=\"https://colab.research.google.com/assets/colab-badge.svg\" alt=\"Open In Colab\"/></a>"
      ]
    },
    {
      "cell_type": "code",
      "execution_count": null,
      "metadata": {
        "colab": {
          "base_uri": "https://localhost:8080/"
        },
        "id": "eSoGOwe5V3kl",
        "outputId": "13c19953-7c98-441d-b9d6-8bc53a0005a4"
      },
      "outputs": [
        {
          "output_type": "stream",
          "name": "stdout",
          "text": [
            "Enter a number: 123\n",
            "123 is not a prime number.\n"
          ]
        }
      ],
      "source": [
        "# Check if a number is prime\n",
        "num = int(input(\"Enter a number: \"))\n",
        "\n",
        "# Prime numbers are greater than 1\n",
        "if num > 1:\n",
        "    is_prime = True\n",
        "    for i in range(2, int(num**0.5) + 1):  # Check up to sqrt(num)\n",
        "        if num % i == 0:\n",
        "            is_prime = False\n",
        "            break\n",
        "    if is_prime:\n",
        "        print(f\"{num} is a prime number.\")\n",
        "    else:\n",
        "        print(f\"{num} is not a prime number.\")\n",
        "else:\n",
        "    print(f\"{num} is not a prime number.\")\n"
      ]
    },
    {
      "cell_type": "code",
      "source": [
        "# Find factorial using a loop\n",
        "num = int(input(\"Enter a number: \"))\n",
        "\n",
        "factorial = 1\n",
        "\n",
        "if num < 0:\n",
        "    print(\"Factorial does not exist for negative numbers.\")\n",
        "elif num == 0:\n",
        "    print(\"The factorial of 0 is 1.\")\n",
        "else:\n",
        "    for i in range(1, num + 1):\n",
        "        factorial *= i\n",
        "    print(f\"The factorial of {num} is {factorial}\")\n"
      ],
      "metadata": {
        "colab": {
          "base_uri": "https://localhost:8080/"
        },
        "id": "XO0CTJVMWRUd",
        "outputId": "f91e31ed-14e0-4fd3-e804-3bf577a2e7a9"
      },
      "execution_count": null,
      "outputs": [
        {
          "output_type": "stream",
          "name": "stdout",
          "text": [
            "Enter a number: 2\n",
            "The factorial of 2 is 2\n"
          ]
        }
      ]
    },
    {
      "cell_type": "code",
      "source": [
        "# Fibonacci series using loop\n",
        "n = int(input(\"Enter the number of terms: \"))\n",
        "\n",
        "a, b = 0, 1\n",
        "\n",
        "if n <= 0:\n",
        "    print(\"Please enter a positive integer.\")\n",
        "elif n == 1:\n",
        "    print(\"Fibonacci series:\", a)\n",
        "else:\n",
        "    print(\"Fibonacci series:\", end=\" \")\n",
        "    for _ in range(n):\n",
        "        print(a, end=\" \")\n",
        "        a, b = b, a + b\n"
      ],
      "metadata": {
        "colab": {
          "base_uri": "https://localhost:8080/"
        },
        "id": "Pzc5h-dWWZpg",
        "outputId": "22a60804-68ec-441a-b104-9eaa2d2ff2b6"
      },
      "execution_count": null,
      "outputs": [
        {
          "output_type": "stream",
          "name": "stdout",
          "text": [
            "Enter the number of terms: 34\n",
            "Fibonacci series: 0 1 1 2 3 5 8 13 21 34 55 89 144 233 377 610 987 1597 2584 4181 6765 10946 17711 28657 46368 75025 121393 196418 317811 514229 832040 1346269 2178309 3524578 "
          ]
        }
      ]
    },
    {
      "cell_type": "code",
      "source": [
        "# Sum of digits using loop\n",
        "num = int(input(\"Enter a number: \"))\n",
        "\n",
        "sum_digits = 0\n",
        "temp = abs(num)  # Handle negative numbers\n",
        "\n",
        "while temp > 0:\n",
        "    digit = temp % 10\n",
        "    sum_digits += digit\n",
        "    temp //= 10\n",
        "\n",
        "print(f\"Sum of digits of {num} is {sum_digits}\")\n"
      ],
      "metadata": {
        "colab": {
          "base_uri": "https://localhost:8080/"
        },
        "id": "l5hTigFrWjTb",
        "outputId": "42013861-ec34-49e8-fb63-25aeecf07e2e"
      },
      "execution_count": null,
      "outputs": [
        {
          "output_type": "stream",
          "name": "stdout",
          "text": [
            "Enter a number: 34\n",
            "Sum of digits of 34 is 7\n"
          ]
        }
      ]
    },
    {
      "cell_type": "code",
      "source": [
        "# Reverse digits using loop\n",
        "num = int(input(\"Enter a number: \"))\n",
        "\n",
        "negative = num < 0\n",
        "num = abs(num)  # Work with positive equivalent\n",
        "\n",
        "reverse_num = 0\n",
        "\n",
        "while num > 0:\n",
        "    digit = num % 10\n",
        "    reverse_num = reverse_num * 10 + digit\n",
        "    num //= 10\n",
        "\n",
        "if negative:\n",
        "    reverse_num = -reverse_num\n",
        "\n",
        "print(\"Reversed number:\", reverse_num)\n",
        "\n"
      ],
      "metadata": {
        "colab": {
          "base_uri": "https://localhost:8080/"
        },
        "id": "4Bw1obovWt_W",
        "outputId": "993216ae-711b-41cb-87e9-b0cd90876b4e"
      },
      "execution_count": null,
      "outputs": [
        {
          "output_type": "stream",
          "name": "stdout",
          "text": [
            "Enter a number: 34\n",
            "Reversed number: 43\n"
          ]
        }
      ]
    }
  ]
}